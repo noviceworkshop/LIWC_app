{
 "cells": [
  {
   "cell_type": "code",
   "execution_count": 1,
   "metadata": {},
   "outputs": [],
   "source": [
    "# from openpyxl import load_workbook\n",
    "from ckiptagger import data_utils, construct_dictionary, WS, POS, NER\n"
   ]
  },
  {
   "cell_type": "code",
   "execution_count": 2,
   "metadata": {},
   "outputs": [],
   "source": [
    "import pandas as pd\n",
    "from collections import Counter"
   ]
  },
  {
   "cell_type": "code",
   "execution_count": 10,
   "metadata": {},
   "outputs": [
    {
     "name": "stderr",
     "output_type": "stream",
     "text": [
      "C:\\Users\\harry\\Desktop\\clean_start\\.venv\\lib\\site-packages\\keras\\layers\\legacy_rnn\\rnn_cell_impl.py:901: UserWarning: `tf.nn.rnn_cell.LSTMCell` is deprecated and will be removed in a future version. This class is equivalent as `tf.keras.layers.LSTMCell`, and will be replaced by that in Tensorflow 2.0.\n",
      "  warnings.warn(\"`tf.nn.rnn_cell.LSTMCell` is deprecated and will be \"\n",
      "C:\\Users\\harry\\Desktop\\clean_start\\.venv\\lib\\site-packages\\keras\\engine\\base_layer_v1.py:1684: UserWarning: `layer.add_variable` is deprecated and will be removed in a future version. Please use `layer.add_weight` method instead.\n",
      "  warnings.warn('`layer.add_variable` is deprecated and '\n"
     ]
    }
   ],
   "source": [
    "wseg = WS('./data')"
   ]
  },
  {
   "cell_type": "code",
   "execution_count": null,
   "metadata": {},
   "outputs": [],
   "source": [
    "pos = POS(\"./data\")"
   ]
  },
  {
   "cell_type": "code",
   "execution_count": 3,
   "metadata": {},
   "outputs": [],
   "source": [
    "df = pd.read_excel('./TEST/CDC記者會textdate.xlsx',engine='openpyxl')"
   ]
  },
  {
   "cell_type": "code",
   "execution_count": 4,
   "metadata": {},
   "outputs": [
    {
     "data": {
      "text/html": [
       "<div>\n",
       "<style scoped>\n",
       "    .dataframe tbody tr th:only-of-type {\n",
       "        vertical-align: middle;\n",
       "    }\n",
       "\n",
       "    .dataframe tbody tr th {\n",
       "        vertical-align: top;\n",
       "    }\n",
       "\n",
       "    .dataframe thead th {\n",
       "        text-align: right;\n",
       "    }\n",
       "</style>\n",
       "<table border=\"1\" class=\"dataframe\">\n",
       "  <thead>\n",
       "    <tr style=\"text-align: right;\">\n",
       "      <th></th>\n",
       "      <th>date</th>\n",
       "      <th>Unnamed: 1</th>\n",
       "      <th>report</th>\n",
       "      <th>備註</th>\n",
       "    </tr>\n",
       "  </thead>\n",
       "  <tbody>\n",
       "    <tr>\n",
       "      <th>0</th>\n",
       "      <td>2021-01-06</td>\n",
       "      <td>2021-01-06</td>\n",
       "      <td>我們各位好朋友們大家午安\\n\\n謝謝大家今天來參加我們指揮中心的記者會\\n\\n今天的記者會還...</td>\n",
       "      <td>NaN</td>\n",
       "    </tr>\n",
       "    <tr>\n",
       "      <th>1</th>\n",
       "      <td>2021-01-07</td>\n",
       "      <td>2021-01-07</td>\n",
       "      <td>NaN</td>\n",
       "      <td>NaN</td>\n",
       "    </tr>\n",
       "    <tr>\n",
       "      <th>2</th>\n",
       "      <td>2021-01-08</td>\n",
       "      <td>2021-01-08</td>\n",
       "      <td>NaN</td>\n",
       "      <td>NaN</td>\n",
       "    </tr>\n",
       "    <tr>\n",
       "      <th>3</th>\n",
       "      <td>2021-01-09</td>\n",
       "      <td>2021-01-09</td>\n",
       "      <td>NaN</td>\n",
       "      <td>NaN</td>\n",
       "    </tr>\n",
       "    <tr>\n",
       "      <th>4</th>\n",
       "      <td>2021-01-10</td>\n",
       "      <td>2021-01-10</td>\n",
       "      <td>NaN</td>\n",
       "      <td>NaN</td>\n",
       "    </tr>\n",
       "    <tr>\n",
       "      <th>5</th>\n",
       "      <td>2021-01-11</td>\n",
       "      <td>2021-01-11</td>\n",
       "      <td>NaN</td>\n",
       "      <td>NaN</td>\n",
       "    </tr>\n",
       "    <tr>\n",
       "      <th>6</th>\n",
       "      <td>2021-01-12</td>\n",
       "      <td>2021-01-12</td>\n",
       "      <td>我們各位好朋友們 大家午安 謝謝大家\\n\\n來參加今天的記者會  也等了一下子 那\\n\\n今...</td>\n",
       "      <td>NaN</td>\n",
       "    </tr>\n",
       "    <tr>\n",
       "      <th>7</th>\n",
       "      <td>2021-01-13</td>\n",
       "      <td>2021-01-13</td>\n",
       "      <td>各位媒體好朋友們大家午安 謝謝大家今天\\n\\n來參加\\n\\n我們的指揮中心的記者會\\n\\n今...</td>\n",
       "      <td>NaN</td>\n",
       "    </tr>\n",
       "    <tr>\n",
       "      <th>8</th>\n",
       "      <td>2021-01-14</td>\n",
       "      <td>2021-01-14</td>\n",
       "      <td>我們各位好朋友們大家午安\\n\\n謝謝大家來參加我們今天的記者會\\n\\n那今天記者會還是由我們...</td>\n",
       "      <td>NaN</td>\n",
       "    </tr>\n",
       "    <tr>\n",
       "      <th>9</th>\n",
       "      <td>2021-01-15</td>\n",
       "      <td>2021-01-15</td>\n",
       "      <td>NaN</td>\n",
       "      <td>NaN</td>\n",
       "    </tr>\n",
       "    <tr>\n",
       "      <th>10</th>\n",
       "      <td>2021-01-16</td>\n",
       "      <td>2021-01-16</td>\n",
       "      <td>NaN</td>\n",
       "      <td>NaN</td>\n",
       "    </tr>\n",
       "    <tr>\n",
       "      <th>11</th>\n",
       "      <td>2021-01-17</td>\n",
       "      <td>2021-01-17</td>\n",
       "      <td>我們各位好朋友們 大家午安 那謝謝大家\\n\\n來參加我們今天的記者會\\n\\n今天記者會還是由...</td>\n",
       "      <td>NaN</td>\n",
       "    </tr>\n",
       "    <tr>\n",
       "      <th>12</th>\n",
       "      <td>2021-01-18</td>\n",
       "      <td>2021-01-18</td>\n",
       "      <td>各位好朋友們大家午安 那謝謝大家今天\\n\\n仍然持續來參加我們的記者會\\n\\n今天記者會還是...</td>\n",
       "      <td>NaN</td>\n",
       "    </tr>\n",
       "    <tr>\n",
       "      <th>13</th>\n",
       "      <td>2021-01-19</td>\n",
       "      <td>2021-01-19</td>\n",
       "      <td>我們各位好朋友們 大家午安\\n\\n那謝謝大家今天還是來持續參加我們的\\n\\n記者會\\n\\n那...</td>\n",
       "      <td>NaN</td>\n",
       "    </tr>\n",
       "    <tr>\n",
       "      <th>14</th>\n",
       "      <td>2021-01-20</td>\n",
       "      <td>2021-01-20</td>\n",
       "      <td>我們各位好朋友們大家午安 謝謝大家\\n\\n仍然鍥而不捨來關心我們指揮中心\\n\\n的一些工作 ...</td>\n",
       "      <td>NaN</td>\n",
       "    </tr>\n",
       "    <tr>\n",
       "      <th>15</th>\n",
       "      <td>2021-01-21</td>\n",
       "      <td>2021-01-21</td>\n",
       "      <td>好 我們各位好朋友們大家午安 那\\n\\n謝謝大家來參加我們的記者會 那今天的\\n\\n記者會還...</td>\n",
       "      <td>NaN</td>\n",
       "    </tr>\n",
       "    <tr>\n",
       "      <th>16</th>\n",
       "      <td>2021-01-22</td>\n",
       "      <td>2021-01-22</td>\n",
       "      <td>各位媒體朋友們大家午安\\n\\n那謝謝大家能夠持續來參加我們指揮中心\\n\\n的記者會\\n\\n今...</td>\n",
       "      <td>NaN</td>\n",
       "    </tr>\n",
       "    <tr>\n",
       "      <th>17</th>\n",
       "      <td>2021-01-23</td>\n",
       "      <td>2021-01-23</td>\n",
       "      <td>好 我們各位好朋友們大家午安 那謝謝\\n\\n大家 假日還是持續來關心 我們指揮中心的\\n\\n...</td>\n",
       "      <td>NaN</td>\n",
       "    </tr>\n",
       "    <tr>\n",
       "      <th>18</th>\n",
       "      <td>2021-01-24</td>\n",
       "      <td>2021-01-24</td>\n",
       "      <td>我們各位好朋友 謝謝大家現在還留守\\n\\n在這裡 那能夠參加我們的記者會\\n\\n接下來\\n\\...</td>\n",
       "      <td>NaN</td>\n",
       "    </tr>\n",
       "  </tbody>\n",
       "</table>\n",
       "</div>"
      ],
      "text/plain": [
       "         date  Unnamed: 1                                             report  \\\n",
       "0  2021-01-06  2021-01-06  我們各位好朋友們大家午安\\n\\n謝謝大家今天來參加我們指揮中心的記者會\\n\\n今天的記者會還...   \n",
       "1  2021-01-07  2021-01-07                                                NaN   \n",
       "2  2021-01-08  2021-01-08                                                NaN   \n",
       "3  2021-01-09  2021-01-09                                                NaN   \n",
       "4  2021-01-10  2021-01-10                                                NaN   \n",
       "5  2021-01-11  2021-01-11                                                NaN   \n",
       "6  2021-01-12  2021-01-12  我們各位好朋友們 大家午安 謝謝大家\\n\\n來參加今天的記者會  也等了一下子 那\\n\\n今...   \n",
       "7  2021-01-13  2021-01-13  各位媒體好朋友們大家午安 謝謝大家今天\\n\\n來參加\\n\\n我們的指揮中心的記者會\\n\\n今...   \n",
       "8  2021-01-14  2021-01-14  我們各位好朋友們大家午安\\n\\n謝謝大家來參加我們今天的記者會\\n\\n那今天記者會還是由我們...   \n",
       "9  2021-01-15  2021-01-15                                                NaN   \n",
       "10 2021-01-16  2021-01-16                                                NaN   \n",
       "11 2021-01-17  2021-01-17  我們各位好朋友們 大家午安 那謝謝大家\\n\\n來參加我們今天的記者會\\n\\n今天記者會還是由...   \n",
       "12 2021-01-18  2021-01-18  各位好朋友們大家午安 那謝謝大家今天\\n\\n仍然持續來參加我們的記者會\\n\\n今天記者會還是...   \n",
       "13 2021-01-19  2021-01-19  我們各位好朋友們 大家午安\\n\\n那謝謝大家今天還是來持續參加我們的\\n\\n記者會\\n\\n那...   \n",
       "14 2021-01-20  2021-01-20  我們各位好朋友們大家午安 謝謝大家\\n\\n仍然鍥而不捨來關心我們指揮中心\\n\\n的一些工作 ...   \n",
       "15 2021-01-21  2021-01-21  好 我們各位好朋友們大家午安 那\\n\\n謝謝大家來參加我們的記者會 那今天的\\n\\n記者會還...   \n",
       "16 2021-01-22  2021-01-22  各位媒體朋友們大家午安\\n\\n那謝謝大家能夠持續來參加我們指揮中心\\n\\n的記者會\\n\\n今...   \n",
       "17 2021-01-23  2021-01-23  好 我們各位好朋友們大家午安 那謝謝\\n\\n大家 假日還是持續來關心 我們指揮中心的\\n\\n...   \n",
       "18 2021-01-24  2021-01-24  我們各位好朋友 謝謝大家現在還留守\\n\\n在這裡 那能夠參加我們的記者會\\n\\n接下來\\n\\...   \n",
       "\n",
       "    備註  \n",
       "0  NaN  \n",
       "1  NaN  \n",
       "2  NaN  \n",
       "3  NaN  \n",
       "4  NaN  \n",
       "5  NaN  \n",
       "6  NaN  \n",
       "7  NaN  \n",
       "8  NaN  \n",
       "9  NaN  \n",
       "10 NaN  \n",
       "11 NaN  \n",
       "12 NaN  \n",
       "13 NaN  \n",
       "14 NaN  \n",
       "15 NaN  \n",
       "16 NaN  \n",
       "17 NaN  \n",
       "18 NaN  "
      ]
     },
     "execution_count": 4,
     "metadata": {},
     "output_type": "execute_result"
    }
   ],
   "source": [
    "df"
   ]
  },
  {
   "cell_type": "code",
   "execution_count": 5,
   "metadata": {},
   "outputs": [],
   "source": [
    "column_idx=2\n",
    "tmp_txts = []\n",
    "tmp_rows = []\n",
    "for row in range(0, df.shape[0]):\n",
    "    text = df.iloc[row,column_idx]\n",
    "    if type(text)!=str:\n",
    "        continue\n",
    "    text = text.replace('\\r\\n', '')\n",
    "    text = text.replace('\\n', '')\n",
    "    tmp_txts.append(text)\n",
    "    tmp_rows.append(row)"
   ]
  },
  {
   "cell_type": "code",
   "execution_count": 9,
   "metadata": {},
   "outputs": [
    {
     "data": {
      "text/plain": [
       "'我們各位好朋友們 大家午安 謝謝大家來參加今天的記者會  也等了一下子 那今天記者會還是由我們陳指揮官來親自主持 那副指揮官跟我們專家諮詢小組的張召集人也都在指揮官的左手及右手側 那另外在我們各位的最右手側 前排最右手側是我們衛福部的石次長 那在後排是我們社區防治組的莊人祥莊組長兼發言人接下來就請我們的陳指揮官 跟大家說明一下我們現在工作的一個情形好 各位記者女士先生大家好 大家午安那我們今天宣佈新增兩例境外移入COVID-19 的病例 自美國及英國入境那兩例本土 COVID-19的病例那在新增的境外移入的案例 一個是從美國 一位從英國那那836為本國籍60多歲的女性 長期住在美國 1月5日返國探親 搭機前3日的陰性檢驗報告有那入境後在防疫旅館 居家檢疫 那個案1月10號出現咳嗽流鼻水 有痰的症狀那安排就醫採檢 那今日確診 那由於他全部的時間 都在居家檢疫所以沒有匡列接觸者那案837是英國籍的30多歲的男性 在12月29日來臺洽公 那有3日前的陰性報告 入境後也在集中檢疫所檢疫進來之後 那是我們的英國專案  進來都有做採檢 那個時候是陰性那到現在都沒有症狀 那1月11日接受檢疫期滿採檢 那今日確診那因為沒有症狀也沒有跟他人接觸所以沒有匡列接觸者那再報告大概 大家都非常關心的兩例的本土的案例那一位是一位是醫師 一位是這醫師 那因為進去我們的隔離的病房 隔離負壓病房替原來 COVID-19確診者 在醫療中的確診者那因為狀況比較嚴重所以進去插管曾經有這樣的一個狀況然後在1月8號從回顧起來 覺得有一點點的症狀那到1月10號覺得身體不舒服 所以就報告醫院 然後採檢確診那是838那839是護理師 是護理師 那不過呢 他們基本上在判定上 應該不是在工作上面的染疫 應該是 他們算是密切的接觸者她是他的女朋友所以在這裡面大概是在社區 這裡面有兩個案例 一個是在醫院的一個醫院感染 那一個是在社區的感染那為了因應這樣的一個情況所以我們大概從昨天 昨天下午開始就緊急發動了所有的疫調跟所有的醫院裡面必要的一些處置那醫院裡面的處置 大概最 大家比較關心的也是我們大家最關心的 就相關的接觸者或是服務的病房 我們大概做了哪些的事情那我們先跟大家報告就是 在這裡面 我們大概初步來看 這個病例在醫院裡面 並沒有造成院內裡面有這樣的感染擴大的情形那我們匡列了非常多的人 到從昨天的應該是晚上 有第一批出來 那晚上11點再出來一批那晚上11點 晚上的半夜 整個從半夜11點我們召回所有這些相關可能接觸的人那跟大夜班的服務的人那整體的做了一些採檢分批在今天早上7點半 那在早上大概11  10點多 9點半那另外一批是剛剛 剛剛之所以拖了一點時間是因為今天早上又匡列了22個人原來是匡列400442匡列了442人 那今天早上又再匡列了22人 那最後我們剛剛是等這樣的一個結果出來那也算是不幸中的大幸 我們這裡面採檢了464人總共採檢了464人 那全部都是陰性那這是在院內 那院內我們除了做這樣的一個大規模的一些採檢之外我們大概裡面 在暫時裡面初步先決定這醫院現在是在住院的部分只出不進 在住院部分只出不進 那早上也把急診室 滯留在急診室 相關的病人轉診到其他的醫院因為這醫院裡面 本身在護理人員我們也匡列了醫護 應該是說相關的工作人員 我們也匡列了39人 有26個人到我們的集中檢疫所 集中檢疫那13個人在這個居家檢疫那因應這樣的一個 暫時的一個短時間的人力的短缺 所以我們讓醫院的負荷儘量能夠減低希望能夠把這個醫院的清消 消毒 再把它做完全那目前 目前做就是把相關這些醫師跟護理人員的足跡 或在醫院內的足跡 就是有照顧過的病人或是他有待過這些相關的station  不管是在ICU的也好 或者就在我們的一般的病 在室裡面的全部都清空 那移到我們相關的隔離的病房 全部以 先以這個確診者 這樣的一個防護的措施來處理這些相關有接觸到的病人那至於在探病 我們現在就先 原則上禁止探病 除非有緊急的情況 由院方視情況來決定 但原則上是禁止探病 那陪病者以1人為限那維持原來的實名制那在整個這樣的裡面當然後續我們還有需要在社區部分 還要再處理社區的部分 我們的疫調也陸續在進行那也匡列了一些的隔離者那還有 那個一些自主健康管理 那陸陸續續因為兩位的足跡部分 跟接觸者的部分我們大概下午應該能夠做得比較完完全那因為也要 那些人也是需要經過採檢那採檢還沒有都完成所以大概明天上午應該採檢會完成了那整體這樣的一個院內的感染的事件 我們當然覺得非常的遺憾那不過呢 我們要感謝我們的醫護 護理還有我們的醫事人員長期處在這第一線暴露在這樣的一個風險之中那雖然我們這整體的感染控制的實施跟演練都非常的嚴格 但也難免有百密一疏那所以 所幸的是整個院方處理的態度非常的積極迅速加上我們的防疫的人員 也全部全力來協助那最感謝的是 昨天晚上大概整晚所有的檢驗的人員 大概都漏夜都沒有睡 分成四批 把所有該檢驗的都檢驗完畢讓我們也比較清楚 在後續的處理上面怎麼樣能夠達到更完整的一個效果那所以我們也希望說 我們感染的醫護人員也希望他們 大家幫他集集氣祈福 希望這些醫護人員能夠早日的康復那另外呢 這個軌跡還沒有非常的完 完全不過有一些軌跡是有一點錯誤 那我們現在請那個我們警政單位再把他釐清中再把他釐清中那838的 因為他早一點所以他調 調查的相對比較完整那我們可以知道說是1月8日到9日這裡面跟社區有接觸的 大概有3個地點 大江購物中心 星巴克國際門市那振宇五金行桃園國際店這是838的一個相關公共場所的一個足跡 那至於839 他有跟我們講了一些的那個他有去過的地方那桃園衛生局也根據他的一個口述去相關的地點進行消毒 那有一些也 今天也停業那不過我們再進一步的再核對基本上有一些區域他去過的是 是在他感染期之前的那他只是憑著他的一個印象裡面 講出了一些地方 那所以我們覺得這應該要來更精確一些所以現在跟警政單位在核對透過這些相關的這些系統然後還有一些相關時間 再跟他再對好 那下午如果我們這是清楚 我們隨時會大家來公佈 那以上我們今天就先跟大家報告到這裡'"
      ]
     },
     "execution_count": 9,
     "metadata": {},
     "output_type": "execute_result"
    }
   ],
   "source": [
    "tmp_txts[1]"
   ]
  },
  {
   "cell_type": "code",
   "execution_count": null,
   "metadata": {},
   "outputs": [],
   "source": [
    "seg_txts = wseg(tmp_txts)"
   ]
  },
  {
   "cell_type": "code",
   "execution_count": null,
   "metadata": {},
   "outputs": [],
   "source": []
  },
  {
   "cell_type": "code",
   "execution_count": 44,
   "metadata": {},
   "outputs": [
    {
     "ename": "TypeError",
     "evalue": "'list' object is not callable",
     "output_type": "error",
     "traceback": [
      "\u001b[1;31m---------------------------------------------------------------------------\u001b[0m",
      "\u001b[1;31mTypeError\u001b[0m                                 Traceback (most recent call last)",
      "\u001b[1;32m<ipython-input-44-95a2c5382e5b>\u001b[0m in \u001b[0;36m<module>\u001b[1;34m\u001b[0m\n\u001b[1;32m----> 1\u001b[1;33m \u001b[0mpos_txts\u001b[0m \u001b[1;33m=\u001b[0m \u001b[0mpos\u001b[0m\u001b[1;33m(\u001b[0m\u001b[0mseg_txts\u001b[0m\u001b[1;33m[\u001b[0m\u001b[1;36m0\u001b[0m\u001b[1;33m]\u001b[0m\u001b[1;33m)\u001b[0m\u001b[1;33m\u001b[0m\u001b[0m\n\u001b[0m",
      "\u001b[1;31mTypeError\u001b[0m: 'list' object is not callable"
     ]
    }
   ],
   "source": [
    "pos_txts = pos(seg_txts[0])"
   ]
  },
  {
   "cell_type": "code",
   "execution_count": null,
   "metadata": {},
   "outputs": [],
   "source": [
    "freq_df = df.copy()"
   ]
  },
  {
   "cell_type": "code",
   "execution_count": null,
   "metadata": {},
   "outputs": [],
   "source": [
    "pos_list = [['A', 'c_A'], ['Caa', 'c_Caa'], ['Cab', 'c_Cab'], ['Cba', 'c_Cba'], ['Cbb', 'c_Cbb'], ['Da', 'c_Da'], ['Dfa', 'c_Dfa'], ['Dfb', 'c_Dfb'], ['Di', 'c_Di'], ['Dk', 'c_Dk'], ['D', 'c_D'], ['Na', 'c_Na'], ['Nb', 'c_Nb'], ['Nc', 'c_Nc'], ['Ncd', 'c_Ncd'], ['Nd', 'c_Nd'], ['Neu', 'c_Neu'], ['Nes', 'c_Nes'], ['Nep', 'c_Nep'], ['Neqa', 'c_Neqa'], ['Neqb', 'c_Neqb'], ['Nf', 'c_Nf'], ['Ng', 'c_Ng'], ['Nh', 'c_Nh'], ['Nv', 'c_Nv'], ['I', 'c_I'], ['P', 'c_P'], ['T', 'c_T'], ['VA', 'c_VA'], ['VAC', 'c_VAC'], ['VB', 'c_VB'], ['VC', 'c_VC'], ['VCL', 'c_VCL'], ['VD', 'c_VD'], ['VE', 'c_VE'], ['VF', 'c_VF'], ['VG', 'c_VG'], ['VH', 'c_VH'], ['VHC', 'c_VHC'], ['VI', 'c_VI'], ['VJ', 'c_VJ'], ['VK', 'c_VK'], ['VL', 'c_VL'], ['V_2', 'c_V_2'], ['DE', 'c_DE'], ['SHI', 'c_SHI'], ['FW', 'c_FW'], ['COMMACATEGORY', 'c_comma'], ['DASHCATEGORY', 'c_dash'], ['ETCCATEGORY', 'c_etc'], ['EXCLAMATIONCATEGORY', 'c_exclam'], ['PARENTHESISCATEGORY', 'c_parenth'], ['PAUSECATEGORY', 'c_pause'], ['PERIODCATEGORY', 'c_period'], ['QUESTIONCATEGORY', 'c_qmark'], ['COLONCATEGORY', 'c_colon'], ['SEMICOLONCATEGORY', 'c_semic'], ['SPCHANGECATEGORY', 'c_sp']]\n",
    "pos_list = dict(pos_list)"
   ]
  },
  {
   "cell_type": "code",
   "execution_count": null,
   "metadata": {},
   "outputs": [],
   "source": [
    "freq_df[list(pos_list.values())]=0"
   ]
  },
  {
   "cell_type": "code",
   "execution_count": null,
   "metadata": {},
   "outputs": [],
   "source": [
    "len(pos_txts)"
   ]
  },
  {
   "cell_type": "code",
   "execution_count": 26,
   "metadata": {},
   "outputs": [
    {
     "name": "stdout",
     "output_type": "stream",
     "text": [
      "Counter({'c_Na': 238, 'c_D': 126, 'c_VC': 101, 'c_VH': 99, 'c_comma': 94, 'c_DE': 69, 'c_P': 40, 'c_period': 39, 'c_Nb': 31, 'c_VA': 31, 'c_Cbb': 28, 'c_VJ': 26, 'c_parenth': 24, 'c_VE': 23, 'c_Nc': 22, 'c_SHI': 20, 'c_VK': 20, 'c_Neu': 18, 'c_Caa': 16, 'c_Nh': 15, 'c_Ng': 15, 'c_T': 14, 'c_Dfa': 13, 'c_Ncd': 13, 'c_pause': 13, 'c_VHC': 13, 'c_Nf': 12, 'c_FW': 10, 'c_Nd': 9, 'c_Neqa': 9, 'c_Di': 8, 'c_V_2': 7, 'c_VL': 7, 'c_A': 7, 'c_VG': 6, 'c_Da': 5, 'c_semic': 5, 'c_VCL': 4, 'c_Nep': 4, 'c_VAC': 4, 'c_Nv': 3, 'c_VI': 3, 'c_VB': 3, 'c_Dk': 2, 'c_VD': 2, 'c_dash': 2, 'c_Cab': 1, 'c_Nes': 1})\n",
      "Counter({'c_Na': 179, 'c_D': 114, 'c_DE': 68, 'c_comma': 66, 'c_VH': 54, 'c_VC': 43, 'c_P': 36, 'c_Nh': 35, 'c_period': 32, 'c_VE': 31, 'c_Dfa': 26, 'c_VK': 25, 'c_Cbb': 24, 'c_parenth': 24, 'c_VJ': 19, 'c_VA': 19, 'c_SHI': 19, 'c_Nb': 18, 'c_Nd': 16, 'c_Caa': 16, 'c_Nf': 16, 'c_Neu': 16, 'c_Neqa': 14, 'c_Nc': 13, 'c_pause': 13, 'c_Di': 12, 'c_VL': 10, 'c_VHC': 9, 'c_Nes': 8, 'c_Ng': 8, 'c_VG': 7, 'c_T': 6, 'c_V_2': 6, 'c_Da': 6, 'c_VD': 5, 'c_colon': 5, 'c_Nep': 5, 'c_Ncd': 4, 'c_qmark': 4, 'c_VCL': 3, 'c_A': 3, 'c_Nv': 2, 'c_FW': 2, 'c_VB': 2, 'c_dash': 2, 'c_Cab': 1, 'c_exclam': 1, 'c_VF': 1, 'c_VI': 1})\n",
      "Counter({'c_Na': 225, 'c_D': 198, 'c_comma': 122, 'c_VC': 76, 'c_VH': 75, 'c_DE': 68, 'c_Nh': 53, 'c_VE': 50, 'c_P': 50, 'c_VA': 49, 'c_period': 47, 'c_SHI': 44, 'c_parenth': 44, 'c_Nf': 36, 'c_Nb': 30, 'c_VK': 30, 'c_Cbb': 28, 'c_Neu': 27, 'c_VJ': 26, 'c_Ng': 26, 'c_T': 25, 'c_Di': 24, 'c_Nc': 22, 'c_Dfa': 21, 'c_Nd': 18, 'c_VCL': 17, 'c_pause': 16, 'c_VG': 15, 'c_Caa': 15, 'c_Neqa': 14, 'c_Ncd': 12, 'c_qmark': 12, 'c_V_2': 11, 'c_Da': 10, 'c_Nep': 8, 'c_Nes': 7, 'c_VL': 6, 'c_colon': 5, 'c_semic': 3, 'c_Cab': 3, 'c_Nv': 3, 'c_A': 3, 'c_exclam': 3, 'c_VHC': 3, 'c_VAC': 2, 'c_Dk': 2, 'c_dash': 2, 'c_VD': 2, 'c_VB': 2, 'c_FW': 2, 'c_Dfb': 1, 'c_Neqb': 1, 'c_VF': 1})\n",
      "Counter({'c_Na': 121, 'c_D': 76, 'c_comma': 61, 'c_VC': 51, 'c_VH': 44, 'c_DE': 39, 'c_VA': 28, 'c_P': 24, 'c_Nf': 23, 'c_Nh': 21, 'c_period': 20, 'c_Neu': 16, 'c_Nb': 14, 'c_parenth': 14, 'c_Nc': 12, 'c_VK': 12, 'c_Cbb': 11, 'c_pause': 10, 'c_Neqa': 10, 'c_Dfa': 10, 'c_VCL': 9, 'c_VE': 9, 'c_VJ': 8, 'c_SHI': 8, 'c_Di': 8, 'c_Nep': 8, 'c_Ng': 8, 'c_V_2': 8, 'c_Caa': 8, 'c_Nd': 7, 'c_VB': 6, 'c_VG': 5, 'c_T': 5, 'c_VD': 4, 'c_Nv': 4, 'c_Ncd': 4, 'c_VHC': 4, 'c_A': 2, 'c_Nes': 2, 'c_exclam': 2, 'c_Cab': 2, 'c_colon': 2, 'c_VF': 2, 'c_etc': 2, 'c_Da': 1, 'c_VL': 1, 'c_semic': 1})\n",
      "Counter({'c_Na': 180, 'c_D': 164, 'c_comma': 104, 'c_VC': 77, 'c_DE': 69, 'c_VH': 67, 'c_Nh': 57, 'c_P': 52, 'c_period': 47, 'c_Cbb': 43, 'c_VA': 37, 'c_parenth': 36, 'c_Nd': 35, 'c_VE': 34, 'c_Nf': 29, 'c_Di': 26, 'c_VJ': 26, 'c_SHI': 24, 'c_Ng': 23, 'c_Nb': 21, 'c_Neqa': 21, 'c_pause': 19, 'c_Dfa': 19, 'c_VK': 18, 'c_Neu': 15, 'c_Nc': 13, 'c_Caa': 12, 'c_Nep': 12, 'c_T': 11, 'c_VHC': 10, 'c_VL': 8, 'c_Da': 7, 'c_Nes': 7, 'c_VCL': 6, 'c_V_2': 6, 'c_VG': 5, 'c_VF': 3, 'c_exclam': 3, 'c_Nv': 3, 'c_VB': 2, 'c_dash': 2, 'c_qmark': 2, 'c_Ncd': 1, 'c_colon': 1, 'c_Cab': 1, 'c_Cba': 1, 'c_semic': 1, 'c_VD': 1})\n",
      "Counter({'c_Na': 718, 'c_D': 400, 'c_comma': 361, 'c_DE': 289, 'c_VC': 271, 'c_VH': 206, 'c_P': 169, 'c_Cbb': 120, 'c_Nf': 107, 'c_Nh': 106, 'c_Nc': 101, 'c_VA': 97, 'c_Nb': 96, 'c_parenth': 94, 'c_period': 86, 'c_Neu': 84, 'c_VE': 67, 'c_Di': 66, 'c_SHI': 64, 'c_Nep': 56, 'c_VJ': 55, 'c_Ng': 52, 'c_VK': 47, 'c_Nd': 44, 'c_Ncd': 44, 'c_VG': 43, 'c_Caa': 41, 'c_pause': 39, 'c_Neqa': 32, 'c_VCL': 32, 'c_VL': 29, 'c_Dfa': 28, 'c_Nes': 27, 'c_Da': 26, 'c_T': 25, 'c_FW': 25, 'c_exclam': 20, 'c_V_2': 20, 'c_A': 15, 'c_VD': 14, 'c_Nv': 13, 'c_colon': 12, 'c_VHC': 11, 'c_VF': 10, 'c_qmark': 9, 'c_VB': 9, 'c_VAC': 5, 'c_Dfb': 3, 'c_Dk': 3, 'c_semic': 3, 'c_Cab': 2, 'c_VI': 2, 'c_I': 1})\n",
      "Counter({'c_Na': 109, 'c_D': 68, 'c_comma': 66, 'c_DE': 65, 'c_VH': 63, 'c_VC': 35, 'c_P': 34, 'c_Nh': 31, 'c_Nf': 30, 'c_Ng': 27, 'c_parenth': 25, 'c_SHI': 19, 'c_Di': 18, 'c_VE': 18, 'c_Dfa': 17, 'c_Cbb': 17, 'c_Neu': 16, 'c_period': 16, 'c_Nc': 15, 'c_Caa': 15, 'c_Nep': 15, 'c_VA': 13, 'c_VJ': 13, 'c_VG': 12, 'c_FW': 9, 'c_Nb': 9, 'c_VK': 8, 'c_VCL': 8, 'c_V_2': 7, 'c_Nes': 6, 'c_Ncd': 6, 'c_pause': 6, 'c_VL': 5, 'c_Nd': 5, 'c_Neqa': 5, 'c_qmark': 4, 'c_T': 3, 'c_VD': 3, 'c_VHC': 3, 'c_Nv': 3, 'c_VB': 2, 'c_A': 1, 'c_VAC': 1, 'c_exclam': 1, 'c_VF': 1})\n",
      "Counter({'c_Na': 144, 'c_D': 60, 'c_DE': 51, 'c_comma': 46, 'c_VH': 40, 'c_VC': 39, 'c_P': 36, 'c_FW': 32, 'c_Nc': 26, 'c_parenth': 24, 'c_Nd': 19, 'c_VA': 18, 'c_Cbb': 15, 'c_Nf': 12, 'c_pause': 12, 'c_Di': 11, 'c_Nep': 10, 'c_VJ': 9, 'c_Ng': 9, 'c_period': 9, 'c_VE': 9, 'c_Neqa': 7, 'c_SHI': 7, 'c_Nb': 7, 'c_Dfa': 7, 'c_V_2': 6, 'c_VG': 6, 'c_Neu': 5, 'c_Caa': 5, 'c_VK': 5, 'c_VCL': 5, 'c_VD': 5, 'c_Ncd': 5, 'c_Da': 4, 'c_VHC': 4, 'c_VL': 3, 'c_Nh': 3, 'c_Cab': 2, 'c_VB': 2, 'c_T': 2, 'c_VI': 2, 'c_colon': 2, 'c_A': 2, 'c_Nv': 2, 'c_Nes': 1, 'c_qmark': 1, 'c_exclam': 1, 'c_semic': 1})\n",
      "Counter({'c_Na': 179, 'c_comma': 151, 'c_D': 130, 'c_Nb': 77, 'c_VH': 77, 'c_VE': 76, 'c_parenth': 74, 'c_VC': 61, 'c_DE': 51, 'c_P': 46, 'c_Nh': 46, 'c_Cbb': 37, 'c_SHI': 27, 'c_Nf': 26, 'c_Dfa': 24, 'c_VJ': 22, 'c_period': 22, 'c_VK': 21, 'c_Neu': 21, 'c_VA': 16, 'c_Nep': 16, 'c_VL': 15, 'c_Ng': 15, 'c_V_2': 14, 'c_VG': 12, 'c_Nd': 12, 'c_Di': 11, 'c_FW': 10, 'c_Neqa': 9, 'c_Da': 8, 'c_pause': 7, 'c_T': 7, 'c_VCL': 6, 'c_Caa': 6, 'c_Ncd': 6, 'c_Nc': 5, 'c_colon': 4, 'c_qmark': 4, 'c_Nv': 3, 'c_A': 3, 'c_VD': 3, 'c_VB': 2, 'c_VHC': 2, 'c_Dk': 2, 'c_VF': 1, 'c_etc': 1, 'c_Nes': 1, 'c_Cab': 1, 'c_exclam': 1, 'c_VI': 1})\n",
      "Counter({'c_Na': 249, 'c_D': 202, 'c_comma': 140, 'c_VH': 97, 'c_VC': 83, 'c_DE': 72, 'c_Nh': 65, 'c_VA': 52, 'c_parenth': 50, 'c_period': 49, 'c_P': 47, 'c_VE': 42, 'c_Cbb': 38, 'c_VJ': 33, 'c_Dfa': 30, 'c_VK': 30, 'c_Ng': 29, 'c_SHI': 29, 'c_Nf': 28, 'c_Nc': 26, 'c_Neqa': 23, 'c_Caa': 20, 'c_Di': 20, 'c_Neu': 19, 'c_Nb': 16, 'c_Nd': 15, 'c_VCL': 14, 'c_V_2': 14, 'c_pause': 11, 'c_Ncd': 11, 'c_VB': 10, 'c_VL': 9, 'c_VG': 9, 'c_A': 7, 'c_VF': 6, 'c_VHC': 6, 'c_Nep': 6, 'c_qmark': 5, 'c_Nv': 5, 'c_Da': 5, 'c_T': 5, 'c_Nes': 4, 'c_colon': 3, 'c_VAC': 3, 'c_VD': 3, 'c_exclam': 2, 'c_semic': 1})\n",
      "Counter({'c_Na': 310, 'c_D': 274, 'c_comma': 194, 'c_VH': 146, 'c_VC': 118, 'c_Nh': 84, 'c_parenth': 79, 'c_DE': 77, 'c_VA': 67, 'c_Nf': 63, 'c_Neu': 62, 'c_P': 58, 'c_period': 53, 'c_VE': 50, 'c_Nc': 38, 'c_VJ': 37, 'c_Cbb': 35, 'c_Dfa': 34, 'c_VK': 31, 'c_V_2': 27, 'c_Nb': 25, 'c_Nd': 24, 'c_pause': 24, 'c_SHI': 22, 'c_Ng': 22, 'c_Caa': 19, 'c_T': 18, 'c_VG': 17, 'c_VCL': 17, 'c_Nep': 15, 'c_Ncd': 14, 'c_VL': 14, 'c_Di': 12, 'c_Da': 10, 'c_Nes': 10, 'c_colon': 9, 'c_qmark': 9, 'c_Neqa': 9, 'c_VHC': 7, 'c_VB': 6, 'c_semic': 6, 'c_FW': 5, 'c_VF': 5, 'c_VD': 4, 'c_Nv': 4, 'c_exclam': 3, 'c_A': 3, 'c_VI': 3, 'c_Cab': 1, 'c_Neqb': 1, 'c_Dk': 1, 'c_VAC': 1})\n",
      "Counter({'c_Na': 307, 'c_D': 181, 'c_comma': 167, 'c_VC': 112, 'c_DE': 108, 'c_VH': 105, 'c_parenth': 84, 'c_P': 77, 'c_Nh': 71, 'c_period': 61, 'c_Nf': 56, 'c_VA': 48, 'c_Neu': 35, 'c_VK': 34, 'c_SHI': 34, 'c_VE': 33, 'c_Cbb': 33, 'c_Dfa': 30, 'c_Nc': 30, 'c_Nb': 29, 'c_VJ': 28, 'c_Nd': 28, 'c_Di': 27, 'c_Ng': 25, 'c_VCL': 24, 'c_VL': 23, 'c_pause': 21, 'c_Nep': 19, 'c_Neqa': 17, 'c_VG': 17, 'c_Caa': 15, 'c_Ncd': 15, 'c_Da': 14, 'c_T': 13, 'c_Nes': 13, 'c_V_2': 13, 'c_colon': 11, 'c_A': 7, 'c_Nv': 6, 'c_VF': 6, 'c_VB': 5, 'c_VHC': 4, 'c_exclam': 4, 'c_Dfb': 3, 'c_qmark': 3, 'c_VD': 3, 'c_FW': 2, 'c_VI': 2, 'c_semic': 2, 'c_dash': 1, 'c_Cab': 1, 'c_Cba': 1})\n",
      "Counter({'c_Na': 338, 'c_D': 245, 'c_comma': 169, 'c_VC': 143, 'c_VH': 112, 'c_DE': 102, 'c_Nh': 83, 'c_period': 70, 'c_parenth': 64, 'c_Nf': 58, 'c_VA': 56, 'c_P': 54, 'c_Neu': 53, 'c_Nc': 53, 'c_VE': 48, 'c_Cbb': 32, 'c_pause': 31, 'c_Nd': 31, 'c_Nb': 27, 'c_SHI': 27, 'c_Ng': 26, 'c_VCL': 25, 'c_VJ': 23, 'c_VK': 23, 'c_Dfa': 22, 'c_Caa': 21, 'c_VG': 20, 'c_V_2': 18, 'c_VL': 17, 'c_Di': 17, 'c_Ncd': 15, 'c_FW': 15, 'c_T': 13, 'c_Neqa': 12, 'c_Nes': 12, 'c_Da': 10, 'c_VD': 7, 'c_Nv': 7, 'c_A': 7, 'c_Nep': 6, 'c_colon': 5, 'c_VHC': 5, 'c_semic': 4, 'c_VF': 3, 'c_VB': 3, 'c_Cab': 3, 'c_exclam': 2, 'c_dash': 2, 'c_qmark': 2, 'c_Neqb': 1, 'c_Dk': 1, 'c_Dfb': 1})\n",
      "Counter({'c_Na': 147, 'c_comma': 95, 'c_D': 86, 'c_VC': 68, 'c_Nh': 55, 'c_P': 52, 'c_VH': 45, 'c_DE': 45, 'c_Nf': 34, 'c_Neu': 32, 'c_Nc': 24, 'c_period': 24, 'c_VK': 22, 'c_SHI': 20, 'c_parenth': 20, 'c_Nb': 15, 'c_V_2': 15, 'c_Nd': 13, 'c_Cbb': 12, 'c_VJ': 12, 'c_VE': 12, 'c_Ncd': 11, 'c_VA': 11, 'c_Ng': 10, 'c_VG': 10, 'c_pause': 9, 'c_Da': 8, 'c_VL': 8, 'c_VCL': 8, 'c_Di': 8, 'c_Nep': 7, 'c_Dfa': 6, 'c_Nes': 6, 'c_Caa': 6, 'c_Neqa': 6, 'c_T': 5, 'c_VHC': 3, 'c_VD': 3, 'c_A': 3, 'c_semic': 3, 'c_VAC': 2, 'c_qmark': 1, 'c_exclam': 1, 'c_VB': 1})\n",
      "Counter({'c_Na': 239, 'c_comma': 154, 'c_D': 152, 'c_VC': 99, 'c_VH': 87, 'c_Nh': 83, 'c_P': 63, 'c_parenth': 60, 'c_DE': 57, 'c_period': 49, 'c_VA': 43, 'c_VE': 42, 'c_Cbb': 35, 'c_VK': 35, 'c_Nb': 29, 'c_Nd': 27, 'c_Nf': 26, 'c_VL': 25, 'c_Neu': 24, 'c_Nc': 21, 'c_Dfa': 19, 'c_SHI': 19, 'c_pause': 17, 'c_Di': 17, 'c_Ng': 16, 'c_VJ': 14, 'c_Nep': 14, 'c_Caa': 12, 'c_Neqa': 11, 'c_T': 10, 'c_V_2': 9, 'c_VF': 9, 'c_VG': 9, 'c_VCL': 9, 'c_colon': 8, 'c_Nv': 7, 'c_Ncd': 7, 'c_Nes': 6, 'c_Da': 6, 'c_VHC': 5, 'c_Cab': 4, 'c_qmark': 4, 'c_FW': 3, 'c_VB': 3, 'c_A': 2, 'c_VD': 2, 'c_VI': 2, 'c_Neqb': 1, 'c_semic': 1})\n",
      "Counter({'c_Na': 167, 'c_D': 114, 'c_Nh': 72, 'c_VH': 63, 'c_DE': 54, 'c_parenth': 48, 'c_comma': 45, 'c_VC': 43, 'c_Cbb': 37, 'c_SHI': 26, 'c_P': 26, 'c_period': 25, 'c_VK': 24, 'c_T': 24, 'c_pause': 23, 'c_VE': 20, 'c_VA': 17, 'c_colon': 16, 'c_qmark': 15, 'c_Nf': 14, 'c_VJ': 13, 'c_VG': 10, 'c_Dfa': 9, 'c_Neu': 9, 'c_VL': 9, 'c_V_2': 9, 'c_Di': 8, 'c_Nep': 8, 'c_Ng': 8, 'c_Caa': 7, 'c_Nd': 5, 'c_exclam': 4, 'c_Neqa': 4, 'c_Dk': 4, 'c_etc': 4, 'c_Nc': 3, 'c_Nes': 3, 'c_A': 3, 'c_Nv': 3, 'c_FW': 2, 'c_VF': 2, 'c_VHC': 2, 'c_Ncd': 2, 'c_semic': 2, 'c_VCL': 1, 'c_VB': 1, 'c_Cab': 1, 'c_Da': 1, 'c_VD': 1, 'c_VI': 1, 'c_Cba': 1})\n",
      "Counter({'c_Na': 134, 'c_D': 88, 'c_comma': 54, 'c_DE': 52, 'c_VH': 48, 'c_VC': 39, 'c_Nh': 34, 'c_P': 34, 'c_Cbb': 23, 'c_VA': 18, 'c_FW': 17, 'c_SHI': 17, 'c_period': 17, 'c_Neu': 16, 'c_VJ': 16, 'c_VL': 16, 'c_Ng': 15, 'c_Dfa': 15, 'c_VK': 15, 'c_Nf': 15, 'c_Caa': 13, 'c_VE': 11, 'c_Di': 10, 'c_V_2': 9, 'c_Neqa': 8, 'c_VHC': 7, 'c_Nd': 6, 'c_T': 6, 'c_Da': 5, 'c_VG': 5, 'c_Nc': 5, 'c_pause': 5, 'c_Ncd': 4, 'c_parenth': 4, 'c_A': 3, 'c_I': 2, 'c_colon': 2, 'c_Nes': 2, 'c_Nep': 2, 'c_VCL': 2, 'c_exclam': 2, 'c_Dfb': 1, 'c_VF': 1, 'c_VD': 1, 'c_Nv': 1, 'c_dash': 1, 'c_VB': 1})\n",
      "Counter({'c_Na': 259, 'c_D': 104, 'c_comma': 96, 'c_VH': 69, 'c_DE': 59, 'c_VC': 54, 'c_P': 47, 'c_Nh': 41, 'c_parenth': 28, 'c_period': 27, 'c_Cbb': 25, 'c_VE': 24, 'c_VJ': 22, 'c_SHI': 22, 'c_Nc': 21, 'c_Caa': 21, 'c_VK': 21, 'c_Nf': 20, 'c_Neu': 17, 'c_Neqa': 15, 'c_Nb': 14, 'c_Nd': 13, 'c_pause': 13, 'c_V_2': 11, 'c_VA': 11, 'c_VL': 11, 'c_Ncd': 9, 'c_Ng': 8, 'c_Dfa': 8, 'c_A': 7, 'c_Di': 7, 'c_Nep': 7, 'c_VCL': 7, 'c_VG': 6, 'c_Da': 5, 'c_VF': 5, 'c_T': 4, 'c_VHC': 4, 'c_etc': 2, 'c_Nes': 2, 'c_qmark': 2, 'c_Nv': 1, 'c_Neqb': 1, 'c_Cab': 1, 'c_VD': 1, 'c_colon': 1, 'c_Dk': 1})\n",
      "Counter({'c_Na': 67, 'c_D': 46, 'c_Nh': 40, 'c_comma': 38, 'c_DE': 32, 'c_VH': 31, 'c_VC': 21, 'c_period': 17, 'c_Nf': 14, 'c_VE': 13, 'c_P': 12, 'c_Cbb': 11, 'c_Dfa': 8, 'c_parenth': 8, 'c_Nc': 7, 'c_Ncd': 7, 'c_VK': 7, 'c_VA': 6, 'c_VL': 6, 'c_Nd': 6, 'c_Nep': 6, 'c_Neu': 5, 'c_Di': 4, 'c_VJ': 4, 'c_Neqa': 3, 'c_SHI': 3, 'c_VB': 3, 'c_Ng': 2, 'c_colon': 2, 'c_V_2': 2, 'c_Nb': 1, 'c_Caa': 1, 'c_Nes': 1, 'c_T': 1, 'c_exclam': 1, 'c_VD': 1, 'c_VG': 1, 'c_Nv': 1, 'c_VHC': 1, 'c_VF': 1, 'c_Da': 1, 'c_Cba': 1})\n",
      "Counter({'c_Na': 220, 'c_comma': 116, 'c_D': 84, 'c_DE': 80, 'c_VC': 78, 'c_P': 71, 'c_VH': 68, 'c_Nh': 58, 'c_Nc': 53, 'c_FW': 52, 'c_period': 38, 'c_VE': 35, 'c_Cbb': 34, 'c_parenth': 31, 'c_Caa': 26, 'c_Nf': 25, 'c_Ng': 25, 'c_VJ': 21, 'c_Di': 21, 'c_Neu': 17, 'c_VL': 17, 'c_VK': 16, 'c_SHI': 15, 'c_Neqa': 15, 'c_VA': 13, 'c_Dfa': 12, 'c_Nd': 10, 'c_VG': 9, 'c_VCL': 8, 'c_pause': 8, 'c_VD': 8, 'c_Nep': 7, 'c_VF': 6, 'c_V_2': 6, 'c_T': 6, 'c_Ncd': 5, 'c_dash': 4, 'c_Cab': 3, 'c_colon': 3, 'c_Da': 3, 'c_Nes': 3, 'c_Nv': 3, 'c_A': 2, 'c_semic': 2, 'c_VHC': 2, 'c_VI': 1, 'c_Nb': 1, 'c_VB': 1, 'c_Dfb': 1, 'c_Dk': 1})\n",
      "Counter({'c_Na': 201, 'c_D': 115, 'c_comma': 104, 'c_DE': 75, 'c_VC': 62, 'c_Nh': 49, 'c_P': 47, 'c_VH': 44, 'c_parenth': 34, 'c_period': 33, 'c_Cbb': 32, 'c_Nc': 27, 'c_VA': 26, 'c_Nf': 25, 'c_Ng': 23, 'c_Nb': 22, 'c_VE': 22, 'c_VD': 19, 'c_Neu': 15, 'c_SHI': 15, 'c_VJ': 15, 'c_Di': 14, 'c_VCL': 14, 'c_VK': 14, 'c_Nd': 12, 'c_VG': 12, 'c_Nep': 12, 'c_Nv': 12, 'c_Ncd': 11, 'c_VL': 9, 'c_Dfa': 8, 'c_VF': 7, 'c_VHC': 7, 'c_A': 7, 'c_V_2': 6, 'c_Da': 5, 'c_Nes': 4, 'c_Neqa': 4, 'c_Caa': 4, 'c_pause': 3, 'c_VB': 3, 'c_T': 2, 'c_FW': 2, 'c_colon': 2, 'c_semic': 2, 'c_VI': 1, 'c_qmark': 1, 'c_Dfb': 1, 'c_Dk': 1})\n",
      "Counter({'c_Na': 846, 'c_comma': 447, 'c_Nc': 375, 'c_VC': 351, 'c_D': 342, 'c_VH': 264, 'c_DE': 213, 'c_Nh': 207, 'c_Nb': 162, 'c_Neu': 153, 'c_Nf': 150, 'c_period': 147, 'c_parenth': 144, 'c_P': 135, 'c_pause': 114, 'c_Cbb': 93, 'c_VA': 90, 'c_VE': 84, 'c_VK': 75, 'c_SHI': 72, 'c_Nd': 69, 'c_VJ': 69, 'c_Caa': 57, 'c_Ng': 54, 'c_Dfa': 48, 'c_FW': 48, 'c_Di': 45, 'c_Da': 45, 'c_Nes': 42, 'c_Nep': 42, 'c_Neqa': 36, 'c_VL': 33, 'c_VG': 33, 'c_A': 30, 'c_Ncd': 30, 'c_VCL': 21, 'c_V_2': 21, 'c_T': 15, 'c_VHC': 12, 'c_VF': 12, 'c_colon': 9, 'c_exclam': 9, 'c_VAC': 6, 'c_qmark': 6, 'c_Cba': 6, 'c_Cab': 6, 'c_Neqb': 6, 'c_dash': 6, 'c_Nv': 3, 'c_VI': 3, 'c_VD': 3, 'c_Dfb': 3})\n",
      "Counter({'c_Na': 172, 'c_D': 131, 'c_comma': 128, 'c_Nh': 88, 'c_VC': 79, 'c_parenth': 61, 'c_Nb': 58, 'c_VH': 55, 'c_VE': 52, 'c_DE': 43, 'c_period': 41, 'c_P': 40, 'c_Nf': 38, 'c_SHI': 35, 'c_Neu': 30, 'c_VA': 28, 'c_Cbb': 28, 'c_T': 20, 'c_Nc': 19, 'c_Nd': 16, 'c_colon': 15, 'c_VJ': 14, 'c_Nep': 14, 'c_qmark': 14, 'c_VK': 14, 'c_Dfa': 12, 'c_V_2': 12, 'c_Ng': 12, 'c_VCL': 11, 'c_Di': 11, 'c_Neqa': 11, 'c_pause': 10, 'c_VL': 10, 'c_Ncd': 8, 'c_exclam': 8, 'c_Caa': 6, 'c_VG': 6, 'c_VF': 5, 'c_VB': 5, 'c_FW': 5, 'c_semic': 4, 'c_Da': 3, 'c_A': 3, 'c_VD': 3, 'c_I': 2, 'c_Dk': 2, 'c_dash': 1, 'c_VHC': 1, 'c_Nv': 1, 'c_Nes': 1})\n",
      "Counter({'c_Na': 421, 'c_comma': 174, 'c_VC': 173, 'c_D': 166, 'c_VH': 133, 'c_DE': 117, 'c_Nb': 104, 'c_Nc': 91, 'c_parenth': 84, 'c_period': 76, 'c_P': 69, 'c_Neu': 66, 'c_pause': 57, 'c_Nf': 57, 'c_VA': 54, 'c_FW': 42, 'c_Nd': 39, 'c_VE': 34, 'c_Nh': 32, 'c_VJ': 32, 'c_Cbb': 31, 'c_Dfa': 29, 'c_Ncd': 25, 'c_VCL': 23, 'c_SHI': 22, 'c_Neqa': 22, 'c_Caa': 21, 'c_Di': 21, 'c_A': 21, 'c_VK': 17, 'c_Nes': 14, 'c_Da': 13, 'c_VL': 13, 'c_VF': 12, 'c_Ng': 12, 'c_V_2': 11, 'c_VG': 10, 'c_Nep': 8, 'c_T': 8, 'c_colon': 7, 'c_VD': 7, 'c_exclam': 6, 'c_Nv': 5, 'c_qmark': 3, 'c_VHC': 3, 'c_VI': 3, 'c_VB': 3, 'c_semic': 3, 'c_Cab': 2, 'c_dash': 2, 'c_etc': 2, 'c_Dk': 1})\n",
      "Counter({'c_Na': 196, 'c_comma': 101, 'c_DE': 86, 'c_VH': 82, 'c_D': 80, 'c_VC': 69, 'c_P': 34, 'c_parenth': 34, 'c_Nb': 33, 'c_Neu': 29, 'c_Nf': 29, 'c_Nd': 29, 'c_Nc': 23, 'c_SHI': 23, 'c_pause': 23, 'c_Cbb': 20, 'c_period': 20, 'c_VJ': 19, 'c_VK': 17, 'c_Nh': 16, 'c_Dfa': 15, 'c_VG': 14, 'c_A': 13, 'c_VE': 12, 'c_VL': 12, 'c_VA': 11, 'c_Nep': 11, 'c_Ng': 10, 'c_Caa': 10, 'c_FW': 10, 'c_VCL': 8, 'c_Di': 7, 'c_VHC': 5, 'c_Nes': 5, 'c_Ncd': 4, 'c_V_2': 4, 'c_Nv': 3, 'c_Neqa': 3, 'c_Da': 3, 'c_colon': 2, 'c_Cab': 2, 'c_VD': 2, 'c_VB': 1, 'c_semic': 1, 'c_VF': 1, 'c_exclam': 1})\n",
      "Counter({'c_Na': 219, 'c_VC': 88, 'c_comma': 80, 'c_VH': 68, 'c_Nb': 48, 'c_DE': 48, 'c_D': 44, 'c_pause': 44, 'c_Nc': 43, 'c_P': 32, 'c_parenth': 30, 'c_Neu': 24, 'c_period': 22, 'c_Nd': 21, 'c_Caa': 19, 'c_Nf': 17, 'c_Nh': 17, 'c_VK': 15, 'c_FW': 15, 'c_Cbb': 14, 'c_SHI': 14, 'c_Dfa': 10, 'c_VA': 10, 'c_Ng': 8, 'c_VHC': 8, 'c_Neqa': 7, 'c_VJ': 7, 'c_Nes': 6, 'c_VCL': 6, 'c_A': 6, 'c_Nv': 5, 'c_Nep': 5, 'c_VL': 5, 'c_VG': 5, 'c_Ncd': 4, 'c_VE': 4, 'c_Di': 3, 'c_VF': 3, 'c_Cab': 3, 'c_V_2': 2, 'c_VD': 2, 'c_Da': 1, 'c_colon': 1})\n",
      "Counter({'c_Na': 127, 'c_comma': 80, 'c_D': 62, 'c_VH': 53, 'c_VC': 45, 'c_DE': 45, 'c_parenth': 30, 'c_P': 26, 'c_period': 22, 'c_Nc': 21, 'c_Nb': 17, 'c_Nf': 16, 'c_Cbb': 14, 'c_Dfa': 14, 'c_Neu': 13, 'c_VJ': 13, 'c_Nd': 10, 'c_pause': 10, 'c_VE': 10, 'c_Nh': 10, 'c_Neqa': 9, 'c_VA': 8, 'c_Di': 8, 'c_Ng': 7, 'c_Da': 7, 'c_V_2': 7, 'c_SHI': 5, 'c_VD': 5, 'c_Nep': 4, 'c_VG': 4, 'c_VK': 4, 'c_Ncd': 3, 'c_VHC': 3, 'c_VI': 2, 'c_A': 2, 'c_Nes': 2, 'c_VL': 2, 'c_FW': 2, 'c_VCL': 1, 'c_Nv': 1, 'c_VF': 1, 'c_Caa': 1, 'c_colon': 1})\n",
      "Counter({'c_Na': 157, 'c_comma': 66, 'c_D': 62, 'c_FW': 56, 'c_VC': 56, 'c_DE': 53, 'c_P': 44, 'c_Nh': 36, 'c_VH': 31, 'c_parenth': 30, 'c_Nd': 25, 'c_Cbb': 25, 'c_VE': 22, 'c_Nf': 19, 'c_Ng': 17, 'c_VJ': 17, 'c_Neu': 16, 'c_period': 16, 'c_Nc': 15, 'c_VF': 15, 'c_Dfa': 13, 'c_Caa': 13, 'c_VK': 12, 'c_VA': 11, 'c_Nep': 11, 'c_Neqa': 11, 'c_VG': 10, 'c_SHI': 9, 'c_Nb': 7, 'c_VCL': 7, 'c_A': 7, 'c_Ncd': 7, 'c_dash': 6, 'c_pause': 6, 'c_Da': 6, 'c_VL': 6, 'c_V_2': 6, 'c_VHC': 3, 'c_Nv': 3, 'c_Di': 3, 'c_T': 2, 'c_VD': 2, 'c_colon': 2, 'c_Dk': 2, 'c_VB': 1, 'c_Cab': 1, 'c_semic': 1, 'c_qmark': 1, 'c_Nes': 1})\n",
      "Counter({'c_Na': 269, 'c_comma': 136, 'c_D': 104, 'c_VC': 73, 'c_DE': 68, 'c_P': 64, 'c_Nc': 63, 'c_VH': 52, 'c_Nh': 47, 'c_Nb': 35, 'c_Cbb': 30, 'c_Nd': 26, 'c_VA': 26, 'c_Nf': 25, 'c_VCL': 23, 'c_Neu': 22, 'c_VJ': 21, 'c_VE': 21, 'c_parenth': 20, 'c_Ng': 18, 'c_period': 17, 'c_SHI': 15, 'c_VG': 14, 'c_pause': 14, 'c_V_2': 13, 'c_Ncd': 12, 'c_Caa': 12, 'c_Di': 12, 'c_VK': 11, 'c_Neqa': 11, 'c_VF': 10, 'c_Nes': 9, 'c_Dfa': 9, 'c_A': 8, 'c_VL': 8, 'c_VHC': 7, 'c_Nv': 6, 'c_VD': 5, 'c_Cab': 4, 'c_Da': 4, 'c_Nep': 3, 'c_T': 3, 'c_semic': 3, 'c_VI': 2, 'c_colon': 2, 'c_dash': 1, 'c_exclam': 1, 'c_VB': 1})\n",
      "Counter({'c_Na': 220, 'c_D': 100, 'c_VC': 92, 'c_DE': 91, 'c_comma': 81, 'c_VH': 49, 'c_P': 42, 'c_Nc': 39, 'c_pause': 31, 'c_Nh': 29, 'c_parenth': 28, 'c_Neu': 26, 'c_Cbb': 26, 'c_period': 25, 'c_Nb': 24, 'c_Nf': 22, 'c_VE': 21, 'c_VK': 18, 'c_Ng': 18, 'c_SHI': 17, 'c_Neqa': 16, 'c_Nes': 16, 'c_Ncd': 14, 'c_T': 13, 'c_VA': 13, 'c_FW': 13, 'c_Nep': 12, 'c_Da': 10, 'c_Dfa': 9, 'c_V_2': 8, 'c_VJ': 8, 'c_VG': 7, 'c_VCL': 7, 'c_colon': 7, 'c_Caa': 7, 'c_qmark': 6, 'c_VL': 5, 'c_A': 5, 'c_exclam': 5, 'c_Di': 5, 'c_Nd': 4, 'c_VD': 3, 'c_Cab': 3, 'c_VI': 2, 'c_VF': 2, 'c_VB': 1, 'c_Nv': 1, 'c_semic': 1, 'c_VAC': 1})\n",
      "Counter({'c_Na': 269, 'c_VC': 181, 'c_comma': 106, 'c_D': 95, 'c_Nc': 84, 'c_DE': 81, 'c_P': 59, 'c_VH': 38, 'c_Neu': 37, 'c_VK': 32, 'c_Nf': 32, 'c_Caa': 29, 'c_Cbb': 29, 'c_Nd': 29, 'c_period': 22, 'c_Neqa': 22, 'c_V_2': 22, 'c_Ng': 21, 'c_VE': 20, 'c_parenth': 19, 'c_VJ': 19, 'c_Dfa': 18, 'c_VL': 17, 'c_VA': 13, 'c_pause': 12, 'c_A': 11, 'c_SHI': 10, 'c_Nb': 8, 'c_Nh': 8, 'c_Nv': 8, 'c_Nes': 7, 'c_semic': 7, 'c_Nep': 6, 'c_VD': 6, 'c_VG': 6, 'c_Da': 6, 'c_Ncd': 4, 'c_Di': 4, 'c_VCL': 4, 'c_Neqb': 3, 'c_colon': 3, 'c_VHC': 3, 'c_VF': 3, 'c_FW': 2, 'c_VI': 1, 'c_Dk': 1, 'c_T': 1, 'c_VB': 1, 'c_exclam': 1})\n",
      "Counter({'c_Na': 329, 'c_comma': 105, 'c_D': 92, 'c_VC': 88, 'c_Nc': 71, 'c_P': 63, 'c_VH': 52, 'c_Cbb': 48, 'c_VE': 47, 'c_DE': 44, 'c_parenth': 44, 'c_Nd': 37, 'c_VJ': 33, 'c_Caa': 24, 'c_VA': 23, 'c_period': 23, 'c_Nf': 21, 'c_Ng': 20, 'c_Neu': 16, 'c_pause': 14, 'c_FW': 13, 'c_VD': 13, 'c_Nv': 12, 'c_Neqa': 12, 'c_Dfa': 11, 'c_VG': 11, 'c_Nep': 11, 'c_VK': 10, 'c_Ncd': 9, 'c_V_2': 9, 'c_SHI': 8, 'c_A': 8, 'c_Nh': 7, 'c_VL': 7, 'c_Nes': 7, 'c_Nb': 6, 'c_VHC': 4, 'c_VF': 4, 'c_exclam': 4, 'c_VCL': 4, 'c_Cab': 4, 'c_qmark': 2, 'c_Da': 2, 'c_colon': 2, 'c_Di': 1, 'c_Dk': 1, 'c_VB': 1})\n",
      "Counter({'c_Na': 253, 'c_D': 91, 'c_comma': 84, 'c_VH': 74, 'c_DE': 73, 'c_VC': 65, 'c_Nc': 61, 'c_P': 50, 'c_Cbb': 36, 'c_Neu': 31, 'c_VE': 28, 'c_Nf': 27, 'c_period': 25, 'c_Caa': 23, 'c_Nd': 19, 'c_SHI': 18, 'c_VA': 18, 'c_VJ': 17, 'c_pause': 17, 'c_Ncd': 15, 'c_Ng': 12, 'c_Nv': 12, 'c_Da': 11, 'c_VK': 11, 'c_Dfa': 10, 'c_Neqa': 10, 'c_parenth': 10, 'c_VL': 10, 'c_Nh': 9, 'c_V_2': 9, 'c_Di': 8, 'c_VHC': 7, 'c_Nep': 6, 'c_Nes': 6, 'c_A': 6, 'c_semic': 5, 'c_Nb': 5, 'c_VCL': 5, 'c_VG': 4, 'c_dash': 4, 'c_VAC': 3, 'c_FW': 3, 'c_T': 3, 'c_qmark': 3, 'c_Cab': 2, 'c_Neqb': 1, 'c_colon': 1, 'c_exclam': 1, 'c_VI': 1, 'c_Dk': 1})\n",
      "Counter({'c_Na': 386, 'c_comma': 128, 'c_D': 121, 'c_DE': 98, 'c_VH': 97, 'c_VC': 83, 'c_Nc': 79, 'c_period': 53, 'c_parenth': 52, 'c_VJ': 51, 'c_P': 49, 'c_Nf': 42, 'c_Neu': 40, 'c_Cbb': 37, 'c_Neqa': 35, 'c_VK': 28, 'c_Nd': 27, 'c_Caa': 26, 'c_VA': 26, 'c_Dfa': 22, 'c_SHI': 22, 'c_Nep': 22, 'c_pause': 20, 'c_A': 19, 'c_VE': 19, 'c_Ng': 18, 'c_Ncd': 18, 'c_FW': 18, 'c_VHC': 18, 'c_Di': 17, 'c_VL': 17, 'c_V_2': 14, 'c_Nb': 14, 'c_Da': 11, 'c_VG': 11, 'c_Nh': 9, 'c_VCL': 8, 'c_VB': 5, 'c_colon': 5, 'c_qmark': 4, 'c_VAC': 3, 'c_Nes': 3, 'c_T': 3, 'c_VD': 3, 'c_semic': 2, 'c_Nv': 2, 'c_dash': 2, 'c_Cab': 2})\n",
      "Counter({'c_Na': 75, 'c_D': 43, 'c_comma': 36, 'c_FW': 31, 'c_VH': 24, 'c_DE': 22, 'c_VC': 20, 'c_Cbb': 18, 'c_P': 17, 'c_SHI': 10, 'c_Dfa': 10, 'c_Nh': 9, 'c_Nd': 9, 'c_Nep': 8, 'c_VE': 7, 'c_Nf': 7, 'c_Ng': 7, 'c_T': 5, 'c_VCL': 5, 'c_semic': 5, 'c_VG': 5, 'c_Ncd': 4, 'c_A': 4, 'c_period': 4, 'c_Caa': 4, 'c_Neqa': 4, 'c_pause': 3, 'c_Nc': 3, 'c_Neu': 3, 'c_V_2': 3, 'c_VD': 3, 'c_VL': 3, 'c_VJ': 3, 'c_qmark': 2, 'c_VA': 2, 'c_Di': 2, 'c_VF': 2, 'c_parenth': 2, 'c_Dfb': 2, 'c_VK': 1, 'c_Da': 1, 'c_Cba': 1, 'c_exclam': 1})\n",
      "Counter({'c_Na': 61, 'c_FW': 28, 'c_D': 26, 'c_comma': 17, 'c_Neu': 16, 'c_VC': 15, 'c_Nf': 14, 'c_DE': 13, 'c_parenth': 12, 'c_P': 8, 'c_VH': 7, 'c_SHI': 6, 'c_Nd': 6, 'c_Cbb': 6, 'c_Nep': 6, 'c_Caa': 6, 'c_period': 5, 'c_Nc': 5, 'c_Da': 5, 'c_exclam': 3, 'c_Di': 3, 'c_VE': 3, 'c_VG': 3, 'c_VK': 3, 'c_V_2': 3, 'c_T': 2, 'c_Nh': 2, 'c_VJ': 2, 'c_A': 2, 'c_pause': 2, 'c_VCL': 2, 'c_Neqa': 2, 'c_Nes': 1, 'c_semic': 1, 'c_Ncd': 1, 'c_Ng': 1, 'c_VL': 1, 'c_VI': 1})\n",
      "Counter({'c_Na': 195, 'c_VC': 73, 'c_D': 70, 'c_comma': 63, 'c_Nc': 51, 'c_DE': 50, 'c_P': 47, 'c_VH': 43, 'c_parenth': 36, 'c_Nb': 21, 'c_SHI': 21, 'c_period': 20, 'c_Cbb': 18, 'c_VJ': 17, 'c_VE': 17, 'c_VA': 15, 'c_Ncd': 12, 'c_Ng': 12, 'c_Nd': 11, 'c_Caa': 11, 'c_VF': 11, 'c_VL': 11, 'c_pause': 7, 'c_Nep': 7, 'c_Dfa': 7, 'c_Nf': 6, 'c_VK': 6, 'c_Neu': 6, 'c_Nh': 5, 'c_Da': 5, 'c_Nes': 5, 'c_FW': 4, 'c_Neqa': 4, 'c_V_2': 4, 'c_A': 4, 'c_VHC': 4, 'c_VD': 3, 'c_VG': 3, 'c_VAC': 2, 'c_colon': 2, 'c_Di': 2, 'c_Cab': 1, 'c_VCL': 1, 'c_exclam': 1, 'c_T': 1, 'c_Cba': 1, 'c_VB': 1})\n",
      "Counter({'c_Na': 76, 'c_Nc': 34, 'c_comma': 31, 'c_Nb': 24, 'c_VC': 22, 'c_P': 21, 'c_VH': 21, 'c_DE': 20, 'c_D': 17, 'c_parenth': 16, 'c_Nd': 10, 'c_VE': 10, 'c_period': 9, 'c_SHI': 7, 'c_VG': 7, 'c_Nep': 6, 'c_VJ': 6, 'c_Dfa': 5, 'c_Ncd': 4, 'c_Caa': 4, 'c_Cbb': 4, 'c_VL': 3, 'c_VK': 3, 'c_VA': 3, 'c_Nes': 3, 'c_pause': 3, 'c_Nf': 2, 'c_Neqa': 2, 'c_Neu': 2, 'c_FW': 2, 'c_Nv': 1, 'c_T': 1, 'c_VHC': 1, 'c_VD': 1, 'c_VF': 1, 'c_Nh': 1, 'c_Dk': 1})\n",
      "Counter({'c_Na': 184, 'c_comma': 115, 'c_D': 86, 'c_DE': 85, 'c_Nc': 79, 'c_VH': 68, 'c_VC': 43, 'c_VA': 36, 'c_P': 29, 'c_Neu': 27, 'c_Nf': 25, 'c_VCL': 22, 'c_period': 19, 'c_Ncd': 17, 'c_Nd': 16, 'c_V_2': 16, 'c_SHI': 14, 'c_Ng': 14, 'c_Nh': 12, 'c_pause': 12, 'c_Di': 11, 'c_Dfa': 9, 'c_VK': 9, 'c_Neqa': 9, 'c_VJ': 9, 'c_Cbb': 9, 'c_VE': 8, 'c_VG': 7, 'c_Caa': 6, 'c_Nes': 5, 'c_Nep': 5, 'c_FW': 5, 'c_Da': 5, 'c_parenth': 4, 'c_VB': 3, 'c_T': 3, 'c_VF': 3, 'c_Nb': 2, 'c_VHC': 2, 'c_VAC': 1, 'c_A': 1, 'c_semic': 1, 'c_Dfb': 1, 'c_VI': 1, 'c_exclam': 1, 'c_VD': 1})\n",
      "Counter({'c_Na': 373, 'c_D': 160, 'c_comma': 149, 'c_VH': 126, 'c_Nc': 114, 'c_DE': 112, 'c_VC': 82, 'c_period': 78, 'c_parenth': 56, 'c_P': 54, 'c_pause': 40, 'c_Nf': 32, 'c_VA': 32, 'c_V_2': 28, 'c_VCL': 27, 'c_Cbb': 25, 'c_Ng': 23, 'c_Neu': 23, 'c_Neqa': 22, 'c_VE': 22, 'c_Nd': 21, 'c_A': 21, 'c_VJ': 21, 'c_Dfa': 20, 'c_Nb': 19, 'c_FW': 19, 'c_SHI': 17, 'c_Nh': 17, 'c_VK': 15, 'c_Da': 13, 'c_VD': 13, 'c_Ncd': 12, 'c_Caa': 12, 'c_VL': 12, 'c_Di': 11, 'c_VG': 11, 'c_Nv': 10, 'c_VHC': 10, 'c_Nes': 10, 'c_Nep': 10, 'c_VB': 5, 'c_T': 5, 'c_Cab': 5, 'c_VF': 5, 'c_qmark': 4, 'c_colon': 4, 'c_semic': 3, 'c_exclam': 3, 'c_VI': 2, 'c_etc': 2, 'c_Neqb': 2, 'c_Dk': 2, 'c_dash': 2})\n",
      "Counter({'c_Na': 223, 'c_D': 153, 'c_comma': 124, 'c_Nh': 106, 'c_VC': 90, 'c_DE': 84, 'c_VH': 71, 'c_period': 69, 'c_P': 56, 'c_parenth': 46, 'c_VE': 42, 'c_Nf': 38, 'c_VA': 33, 'c_Cbb': 33, 'c_VK': 28, 'c_Nb': 28, 'c_Di': 26, 'c_Ng': 24, 'c_VJ': 23, 'c_SHI': 22, 'c_Neu': 22, 'c_Neqa': 19, 'c_Nep': 19, 'c_Caa': 19, 'c_Dfa': 15, 'c_V_2': 15, 'c_Nd': 14, 'c_VL': 12, 'c_Nc': 11, 'c_Ncd': 11, 'c_VF': 10, 'c_T': 9, 'c_VB': 8, 'c_Nes': 7, 'c_A': 7, 'c_Nv': 6, 'c_pause': 6, 'c_Da': 6, 'c_VCL': 5, 'c_dash': 5, 'c_VD': 5, 'c_colon': 5, 'c_qmark': 5, 'c_VG': 4, 'c_VHC': 4, 'c_exclam': 4, 'c_FW': 3, 'c_semic': 2, 'c_I': 1})\n",
      "Counter({'c_Na': 201, 'c_comma': 152, 'c_D': 146, 'c_Nh': 114, 'c_DE': 83, 'c_VH': 73, 'c_VC': 71, 'c_P': 53, 'c_VE': 40, 'c_VA': 39, 'c_period': 34, 'c_Cbb': 32, 'c_SHI': 32, 'c_parenth': 32, 'c_VJ': 29, 'c_VK': 29, 'c_Nf': 27, 'c_Nc': 24, 'c_Nd': 23, 'c_Neu': 22, 'c_Nb': 19, 'c_Di': 16, 'c_Ng': 15, 'c_Dfa': 15, 'c_Da': 14, 'c_VCL': 13, 'c_Nep': 12, 'c_Nes': 12, 'c_Caa': 11, 'c_VL': 10, 'c_qmark': 10, 'c_VG': 8, 'c_Neqa': 8, 'c_T': 7, 'c_Nv': 7, 'c_Ncd': 7, 'c_A': 6, 'c_pause': 6, 'c_colon': 5, 'c_VF': 5, 'c_VD': 4, 'c_V_2': 4, 'c_VHC': 2, 'c_exclam': 2, 'c_semic': 2, 'c_FW': 2, 'c_Dk': 1, 'c_VAC': 1, 'c_VI': 1, 'c_Cba': 1, 'c_VB': 1})\n",
      "Counter({'c_Na': 245, 'c_D': 79, 'c_comma': 75, 'c_VC': 67, 'c_VH': 60, 'c_P': 43, 'c_Neqa': 35, 'c_DE': 35, 'c_period': 26, 'c_parenth': 26, 'c_Caa': 24, 'c_VE': 22, 'c_Nc': 18, 'c_VA': 17, 'c_pause': 16, 'c_VK': 15, 'c_Neu': 15, 'c_Nh': 14, 'c_Ng': 14, 'c_Cbb': 13, 'c_Nf': 12, 'c_VD': 11, 'c_VG': 11, 'c_Nd': 11, 'c_V_2': 10, 'c_VJ': 10, 'c_Da': 9, 'c_Dfa': 8, 'c_Di': 7, 'c_Ncd': 7, 'c_Nv': 6, 'c_VF': 6, 'c_VL': 6, 'c_SHI': 6, 'c_Nb': 5, 'c_Nep': 5, 'c_VHC': 4, 'c_colon': 4, 'c_VCL': 3, 'c_qmark': 3, 'c_T': 3, 'c_VB': 3, 'c_semic': 2, 'c_A': 2, 'c_Dk': 1, 'c_FW': 1, 'c_dash': 1, 'c_Cab': 1})\n",
      "Counter({'c_Na': 198, 'c_comma': 89, 'c_D': 89, 'c_VH': 75, 'c_VC': 66, 'c_DE': 64, 'c_P': 53, 'c_Nh': 38, 'c_VK': 37, 'c_period': 33, 'c_VJ': 22, 'c_Ng': 19, 'c_Cbb': 19, 'c_VE': 18, 'c_parenth': 18, 'c_Nf': 18, 'c_SHI': 16, 'c_Neu': 15, 'c_Caa': 14, 'c_Nep': 12, 'c_Neqa': 12, 'c_Dfa': 12, 'c_pause': 11, 'c_VA': 10, 'c_Nd': 10, 'c_VL': 10, 'c_V_2': 10, 'c_colon': 8, 'c_VF': 7, 'c_T': 7, 'c_VHC': 6, 'c_Nes': 6, 'c_VCL': 5, 'c_dash': 5, 'c_qmark': 5, 'c_VD': 5, 'c_exclam': 5, 'c_Nc': 4, 'c_Di': 4, 'c_Nv': 4, 'c_semic': 4, 'c_VG': 3, 'c_VB': 3, 'c_Ncd': 3, 'c_Da': 3, 'c_VI': 3, 'c_A': 2, 'c_FW': 2, 'c_Cba': 1, 'c_Dk': 1, 'c_VAC': 1})\n",
      "Counter({'c_Na': 118, 'c_D': 94, 'c_comma': 63, 'c_VC': 42, 'c_DE': 40, 'c_Nh': 40, 'c_VH': 37, 'c_parenth': 28, 'c_period': 26, 'c_VE': 20, 'c_VA': 19, 'c_P': 18, 'c_Nf': 16, 'c_VK': 16, 'c_Nc': 15, 'c_VJ': 13, 'c_Cbb': 11, 'c_Ng': 10, 'c_Neu': 10, 'c_SHI': 10, 'c_Dfa': 10, 'c_Nd': 9, 'c_VB': 9, 'c_Ncd': 8, 'c_Neqa': 7, 'c_Nv': 7, 'c_colon': 7, 'c_T': 7, 'c_Da': 6, 'c_V_2': 6, 'c_Di': 6, 'c_A': 5, 'c_VL': 5, 'c_Nep': 5, 'c_pause': 4, 'c_Nb': 3, 'c_Caa': 3, 'c_VG': 3, 'c_exclam': 3, 'c_VF': 3, 'c_VCL': 2, 'c_VHC': 2, 'c_etc': 2, 'c_qmark': 2, 'c_Dfb': 1})\n",
      "Counter({'c_Na': 587, 'c_D': 147, 'c_comma': 147, 'c_DE': 133, 'c_parenth': 125, 'c_Nc': 112, 'c_VC': 112, 'c_P': 100, 'c_VH': 97, 'c_Cbb': 62, 'c_period': 59, 'c_pause': 53, 'c_VE': 50, 'c_Caa': 45, 'c_Neu': 38, 'c_FW': 37, 'c_VJ': 33, 'c_Neqa': 32, 'c_SHI': 30, 'c_Ng': 29, 'c_A': 29, 'c_Nf': 28, 'c_V_2': 24, 'c_Nep': 24, 'c_VG': 22, 'c_Nd': 20, 'c_Ncd': 20, 'c_VK': 19, 'c_Nh': 16, 'c_Nes': 15, 'c_Cab': 14, 'c_Nb': 11, 'c_Dfa': 10, 'c_colon': 9, 'c_Di': 9, 'c_T': 7, 'c_VHC': 7, 'c_Nv': 5, 'c_VA': 4, 'c_VF': 4, 'c_qmark': 4, 'c_VL': 4, 'c_VD': 3, 'c_VAC': 3, 'c_Da': 3, 'c_Dk': 3, 'c_VCL': 3, 'c_VB': 2, 'c_VI': 1, 'c_dash': 1})\n",
      "Counter({'c_Na': 203, 'c_D': 135, 'c_comma': 86, 'c_DE': 80, 'c_VH': 76, 'c_VC': 51, 'c_parenth': 49, 'c_P': 46, 'c_FW': 44, 'c_Nh': 44, 'c_Cbb': 37, 'c_period': 34, 'c_VK': 28, 'c_Nf': 24, 'c_SHI': 23, 'c_Neu': 21, 'c_Ng': 20, 'c_VJ': 20, 'c_VE': 19, 'c_VG': 17, 'c_VL': 15, 'c_V_2': 15, 'c_Caa': 15, 'c_VA': 13, 'c_Neqa': 13, 'c_Nc': 12, 'c_Dfa': 12, 'c_Nd': 11, 'c_pause': 10, 'c_Nep': 9, 'c_Nes': 9, 'c_VF': 9, 'c_Nb': 6, 'c_Di': 5, 'c_A': 5, 'c_Nv': 4, 'c_VHC': 4, 'c_Ncd': 3, 'c_qmark': 3, 'c_colon': 3, 'c_semic': 3, 'c_VB': 2, 'c_T': 2, 'c_Da': 2, 'c_dash': 2, 'c_VD': 1, 'c_Cab': 1, 'c_VCL': 1})\n",
      "Counter({'c_Na': 142, 'c_Nc': 123, 'c_D': 88, 'c_comma': 76, 'c_VH': 51, 'c_VC': 46, 'c_period': 38, 'c_Cbb': 31, 'c_DE': 29, 'c_parenth': 28, 'c_VE': 25, 'c_Caa': 24, 'c_Nb': 22, 'c_Neu': 21, 'c_Nf': 20, 'c_P': 19, 'c_SHI': 15, 'c_Dfa': 14, 'c_Nd': 14, 'c_VG': 12, 'c_Nh': 12, 'c_VJ': 11, 'c_Ng': 11, 'c_VL': 11, 'c_VHC': 11, 'c_VK': 10, 'c_Nep': 9, 'c_VA': 9, 'c_FW': 9, 'c_Neqa': 9, 'c_V_2': 8, 'c_pause': 8, 'c_Ncd': 6, 'c_VCL': 4, 'c_exclam': 4, 'c_Nes': 3, 'c_VF': 3, 'c_A': 2, 'c_VB': 2, 'c_qmark': 2, 'c_VI': 2, 'c_Di': 1, 'c_Da': 1, 'c_T': 1, 'c_colon': 1})\n",
      "Counter({'c_Na': 320, 'c_comma': 139, 'c_Nc': 136, 'c_D': 131, 'c_VC': 105, 'c_DE': 92, 'c_VH': 87, 'c_parenth': 74, 'c_P': 68, 'c_Neu': 63, 'c_period': 61, 'c_Nf': 41, 'c_Nb': 34, 'c_VE': 33, 'c_SHI': 32, 'c_VJ': 29, 'c_Cbb': 29, 'c_VA': 20, 'c_Caa': 20, 'c_FW': 20, 'c_Nd': 19, 'c_Ng': 16, 'c_Nh': 14, 'c_pause': 14, 'c_Nep': 13, 'c_Neqa': 13, 'c_Dfa': 12, 'c_VG': 11, 'c_Di': 10, 'c_Nv': 10, 'c_VK': 9, 'c_Ncd': 8, 'c_Nes': 6, 'c_T': 6, 'c_qmark': 6, 'c_A': 6, 'c_VCL': 5, 'c_VD': 5, 'c_VL': 5, 'c_VHC': 4, 'c_VF': 4, 'c_Da': 4, 'c_VB': 3, 'c_V_2': 3, 'c_VI': 2, 'c_exclam': 1, 'c_colon': 1, 'c_Cab': 1, 'c_semic': 1, 'c_Dk': 1})\n",
      "Counter({'c_Na': 284, 'c_comma': 173, 'c_Nc': 162, 'c_D': 130, 'c_DE': 107, 'c_VC': 100, 'c_VH': 94, 'c_P': 86, 'c_Nb': 73, 'c_parenth': 56, 'c_period': 55, 'c_Neu': 39, 'c_FW': 39, 'c_VE': 38, 'c_Nf': 37, 'c_Nd': 36, 'c_Cbb': 33, 'c_VA': 30, 'c_Ng': 26, 'c_Dfa': 25, 'c_VJ': 23, 'c_Nh': 21, 'c_SHI': 20, 'c_VK': 17, 'c_Neqa': 16, 'c_Caa': 16, 'c_A': 14, 'c_VCL': 13, 'c_Nep': 13, 'c_VL': 12, 'c_VG': 12, 'c_V_2': 11, 'c_pause': 11, 'c_Ncd': 10, 'c_VHC': 10, 'c_Di': 9, 'c_Nes': 8, 'c_VF': 8, 'c_VB': 5, 'c_Da': 5, 'c_etc': 4, 'c_Nv': 4, 'c_qmark': 3, 'c_semic': 3, 'c_T': 3, 'c_colon': 3, 'c_VAC': 3, 'c_VD': 2, 'c_Cab': 1, 'c_exclam': 1, 'c_VI': 1, 'c_Dk': 1})\n",
      "Counter({'c_Na': 68, 'c_comma': 33, 'c_D': 32, 'c_Nc': 25, 'c_P': 23, 'c_VC': 20, 'c_parenth': 16, 'c_VH': 15, 'c_DE': 14, 'c_Nf': 8, 'c_SHI': 8, 'c_Cbb': 8, 'c_period': 8, 'c_VE': 7, 'c_Neu': 6, 'c_VJ': 6, 'c_Ng': 6, 'c_Nb': 3, 'c_Nes': 3, 'c_VL': 3, 'c_Neqa': 3, 'c_A': 3, 'c_Nep': 3, 'c_Caa': 3, 'c_VG': 2, 'c_VD': 2, 'c_FW': 2, 'c_VHC': 2, 'c_Nv': 2, 'c_Di': 2, 'c_VCL': 1, 'c_VK': 1, 'c_V_2': 1, 'c_Da': 1, 'c_Nd': 1, 'c_VA': 1, 'c_Dfa': 1, 'c_pause': 1, 'c_colon': 1})\n",
      "Counter({'c_Na': 225, 'c_D': 129, 'c_comma': 100, 'c_VH': 71, 'c_Nc': 60, 'c_VC': 57, 'c_DE': 55, 'c_parenth': 48, 'c_P': 44, 'c_period': 42, 'c_Neu': 34, 'c_Nf': 32, 'c_VA': 31, 'c_Neqa': 26, 'c_Nd': 26, 'c_VE': 25, 'c_Cbb': 22, 'c_Nh': 20, 'c_SHI': 19, 'c_VJ': 19, 'c_Dfa': 18, 'c_Ng': 18, 'c_V_2': 17, 'c_VK': 13, 'c_Caa': 12, 'c_Nb': 12, 'c_FW': 11, 'c_Nep': 10, 'c_Di': 10, 'c_pause': 9, 'c_Ncd': 9, 'c_Da': 8, 'c_T': 7, 'c_qmark': 7, 'c_A': 7, 'c_Nes': 7, 'c_VG': 7, 'c_VCL': 6, 'c_VL': 5, 'c_colon': 4, 'c_VD': 4, 'c_semic': 4, 'c_exclam': 3, 'c_VB': 3, 'c_VF': 3, 'c_dash': 3, 'c_etc': 2, 'c_Nv': 2, 'c_Cab': 2, 'c_Neqb': 2, 'c_VAC': 1, 'c_Dk': 1, 'c_VHC': 1})\n",
      "Counter({'c_Na': 224, 'c_comma': 88, 'c_VC': 77, 'c_Nc': 73, 'c_D': 68, 'c_parenth': 50, 'c_VH': 44, 'c_Nb': 44, 'c_P': 40, 'c_Neu': 30, 'c_period': 28, 'c_pause': 26, 'c_DE': 26, 'c_Nf': 25, 'c_VA': 23, 'c_Nd': 22, 'c_Ng': 15, 'c_Cbb': 15, 'c_VE': 14, 'c_Caa': 13, 'c_VJ': 12, 'c_VK': 10, 'c_Nep': 10, 'c_VG': 9, 'c_FW': 9, 'c_Da': 8, 'c_A': 8, 'c_VD': 8, 'c_Neqa': 8, 'c_Dfa': 7, 'c_SHI': 6, 'c_Nh': 6, 'c_Di': 5, 'c_Cab': 5, 'c_VF': 4, 'c_colon': 4, 'c_VHC': 3, 'c_VCL': 3, 'c_VAC': 3, 'c_qmark': 3, 'c_Nes': 3, 'c_exclam': 2, 'c_Ncd': 2, 'c_Nv': 1, 'c_VL': 1, 'c_V_2': 1, 'c_semic': 1})\n",
      "Counter({'c_Na': 361, 'c_comma': 239, 'c_DE': 169, 'c_D': 165, 'c_P': 134, 'c_Nb': 120, 'c_VH': 112, 'c_VC': 109, 'c_Nh': 101, 'c_Nc': 82, 'c_Nf': 60, 'c_Nd': 58, 'c_Nep': 52, 'c_Cbb': 52, 'c_Di': 45, 'c_VE': 45, 'c_Dfa': 40, 'c_Caa': 40, 'c_parenth': 40, 'c_Neu': 39, 'c_SHI': 39, 'c_Ng': 39, 'c_VJ': 38, 'c_period': 37, 'c_VA': 32, 'c_VG': 26, 'c_VCL': 25, 'c_Neqa': 24, 'c_VK': 21, 'c_Ncd': 21, 'c_VF': 19, 'c_VL': 17, 'c_V_2': 13, 'c_FW': 12, 'c_Nes': 11, 'c_Da': 10, 'c_colon': 8, 'c_VHC': 8, 'c_T': 6, 'c_Nv': 6, 'c_A': 4, 'c_VAC': 3, 'c_Dk': 2, 'c_VD': 1, 'c_Cab': 1, 'c_VB': 1, 'c_VI': 1, 'c_qmark': 1})\n",
      "Counter({'c_Na': 287, 'c_comma': 142, 'c_D': 121, 'c_DE': 116, 'c_P': 114, 'c_parenth': 100, 'c_Nb': 88, 'c_Nc': 84, 'c_VH': 81, 'c_VC': 79, 'c_Nf': 59, 'c_Nd': 55, 'c_Neu': 52, 'c_Nh': 47, 'c_period': 47, 'c_Cbb': 42, 'c_VA': 36, 'c_FW': 29, 'c_Ng': 29, 'c_VE': 28, 'c_Ncd': 28, 'c_SHI': 26, 'c_VJ': 25, 'c_Di': 24, 'c_VCL': 22, 'c_Dfa': 22, 'c_Nep': 21, 'c_VF': 13, 'c_VK': 12, 'c_Neqa': 11, 'c_VB': 10, 'c_colon': 10, 'c_VG': 10, 'c_dash': 8, 'c_Da': 7, 'c_Caa': 7, 'c_Nes': 7, 'c_VD': 5, 'c_Nv': 4, 'c_T': 4, 'c_VI': 4, 'c_VL': 3, 'c_Dk': 2, 'c_pause': 2, 'c_V_2': 2, 'c_VHC': 2, 'c_qmark': 1, 'c_semic': 1})\n",
      "Counter({'c_Na': 103, 'c_comma': 48, 'c_DE': 45, 'c_VH': 39, 'c_VC': 33, 'c_P': 33, 'c_D': 28, 'c_Nh': 21, 'c_FW': 19, 'c_period': 19, 'c_Nf': 17, 'c_VJ': 15, 'c_Caa': 13, 'c_parenth': 12, 'c_Nc': 9, 'c_Nd': 9, 'c_Dfa': 8, 'c_Di': 8, 'c_Neu': 8, 'c_VCL': 8, 'c_VA': 8, 'c_pause': 7, 'c_Ng': 7, 'c_VL': 7, 'c_VF': 6, 'c_VE': 5, 'c_SHI': 5, 'c_Nb': 5, 'c_Nes': 5, 'c_VG': 4, 'c_Nep': 4, 'c_VK': 4, 'c_Neqa': 3, 'c_A': 2, 'c_Cbb': 2, 'c_Da': 2, 'c_Nv': 2, 'c_Ncd': 2, 'c_Dfb': 1, 'c_semic': 1, 'c_Cab': 1, 'c_V_2': 1, 'c_VB': 1, 'c_VD': 1})\n",
      "Counter({'c_Na': 417, 'c_D': 249, 'c_comma': 178, 'c_DE': 152, 'c_VH': 134, 'c_Nh': 121, 'c_P': 117, 'c_VC': 114, 'c_Neu': 108, 'c_Nf': 93, 'c_Nb': 89, 'c_Cbb': 84, 'c_period': 71, 'c_SHI': 61, 'c_Dfa': 51, 'c_pause': 50, 'c_parenth': 50, 'c_Nd': 47, 'c_VA': 47, 'c_Nep': 46, 'c_Nc': 41, 'c_VE': 37, 'c_Ng': 35, 'c_FW': 34, 'c_Di': 33, 'c_VJ': 31, 'c_VK': 29, 'c_T': 29, 'c_Nes': 23, 'c_Ncd': 23, 'c_Neqa': 22, 'c_VL': 21, 'c_V_2': 20, 'c_VG': 19, 'c_VF': 17, 'c_dash': 17, 'c_A': 15, 'c_Caa': 15, 'c_qmark': 13, 'c_Da': 13, 'c_VHC': 9, 'c_semic': 8, 'c_VCL': 8, 'c_Dk': 5, 'c_colon': 4, 'c_VD': 4, 'c_Dfb': 3, 'c_VB': 1, 'c_VI': 1, 'c_Nv': 1, 'c_VAC': 1, 'c_Cba': 1})\n",
      "Counter({'c_Na': 262, 'c_D': 84, 'c_DE': 73, 'c_P': 72, 'c_comma': 67, 'c_VH': 56, 'c_VC': 48, 'c_period': 36, 'c_parenth': 30, 'c_Ncd': 25, 'c_VE': 22, 'c_Ng': 20, 'c_SHI': 15, 'c_VA': 15, 'c_Nf': 15, 'c_Nep': 14, 'c_Nh': 13, 'c_Cbb': 12, 'c_VJ': 11, 'c_VHC': 10, 'c_Caa': 10, 'c_FW': 10, 'c_VG': 9, 'c_Neqa': 8, 'c_Nb': 8, 'c_Nd': 7, 'c_Di': 7, 'c_Neu': 7, 'c_pause': 6, 'c_VCL': 6, 'c_Nc': 6, 'c_Nes': 6, 'c_Dfa': 6, 'c_A': 4, 'c_colon': 4, 'c_VI': 4, 'c_VAC': 4, 'c_VL': 4, 'c_semic': 4, 'c_VK': 3, 'c_qmark': 3, 'c_Cab': 3, 'c_V_2': 3, 'c_T': 2, 'c_Nv': 2, 'c_Da': 2, 'c_VB': 1, 'c_etc': 1, 'c_VD': 1, 'c_Dk': 1})\n",
      "Counter({'c_Na': 238, 'c_D': 113, 'c_VC': 83, 'c_comma': 80, 'c_DE': 76, 'c_VH': 76, 'c_Nc': 58, 'c_P': 56, 'c_VA': 38, 'c_FW': 38, 'c_period': 35, 'c_VJ': 31, 'c_Nf': 29, 'c_pause': 29, 'c_Cbb': 27, 'c_Caa': 26, 'c_Nh': 25, 'c_Neu': 21, 'c_Ng': 21, 'c_Nd': 18, 'c_Nes': 16, 'c_VL': 16, 'c_VE': 14, 'c_Neqa': 13, 'c_Dfa': 12, 'c_VG': 11, 'c_Ncd': 11, 'c_VK': 10, 'c_Nep': 10, 'c_VHC': 9, 'c_Da': 8, 'c_parenth': 8, 'c_Di': 7, 'c_VCL': 7, 'c_VD': 5, 'c_etc': 4, 'c_Nv': 4, 'c_V_2': 4, 'c_Cab': 3, 'c_dash': 3, 'c_VB': 3, 'c_SHI': 3, 'c_A': 3, 'c_Dk': 2, 'c_VF': 2, 'c_T': 1, 'c_Dfb': 1, 'c_colon': 1, 'c_Nb': 1, 'c_Neqb': 1, 'c_VI': 1})\n",
      "Counter({'c_Na': 347, 'c_comma': 188, 'c_D': 160, 'c_DE': 133, 'c_VC': 122, 'c_parenth': 96, 'c_VH': 73, 'c_P': 67, 'c_Cbb': 50, 'c_Nc': 38, 'c_Nf': 36, 'c_period': 36, 'c_Caa': 36, 'c_VJ': 35, 'c_Neu': 35, 'c_Neqa': 29, 'c_SHI': 29, 'c_FW': 28, 'c_VA': 27, 'c_VE': 25, 'c_VG': 23, 'c_Dfa': 23, 'c_VK': 19, 'c_VHC': 18, 'c_Nv': 17, 'c_Nd': 16, 'c_Ng': 16, 'c_Nh': 14, 'c_VL': 13, 'c_Di': 12, 'c_Da': 10, 'c_Nb': 10, 'c_Ncd': 9, 'c_Nes': 9, 'c_VD': 9, 'c_A': 8, 'c_V_2': 7, 'c_Cab': 7, 'c_Nep': 6, 'c_VCL': 5, 'c_VB': 4, 'c_dash': 4, 'c_qmark': 4, 'c_T': 3, 'c_colon': 2, 'c_VF': 2, 'c_pause': 2, 'c_semic': 1, 'c_VAC': 1, 'c_Dk': 1, 'c_VI': 1})\n",
      "(60, 60)\n"
     ]
    }
   ],
   "source": [
    "for row, pos in zip(tmp_rows, pos_txts):\n",
    "    pos= [pos_list[i] for i in pos if i not in ['WHITESPACE','DOTCATEGORY']]\n",
    "    c = Counter(pos)\n",
    "    print(c)\n",
    "    freq = dict([(i, c[i] / len(pos) * 100.0) for i in c])\n",
    "    for k,v in freq.items():\n",
    "        freq_df.loc[row,k]=v\n",
    "print(freq_df.shape)"
   ]
  },
  {
   "cell_type": "code",
   "execution_count": null,
   "metadata": {},
   "outputs": [],
   "source": [
    "pos_list"
   ]
  },
  {
   "cell_type": "code",
   "execution_count": null,
   "metadata": {},
   "outputs": [],
   "source": [
    "freq_df"
   ]
  },
  {
   "cell_type": "code",
   "execution_count": null,
   "metadata": {},
   "outputs": [],
   "source": []
  }
 ],
 "metadata": {
  "kernelspec": {
   "display_name": ".venv",
   "language": "python",
   "name": ".venv"
  },
  "language_info": {
   "codemirror_mode": {
    "name": "ipython",
    "version": 3
   },
   "file_extension": ".py",
   "mimetype": "text/x-python",
   "name": "python",
   "nbconvert_exporter": "python",
   "pygments_lexer": "ipython3",
   "version": "3.6.5"
  },
  "vscode": {
   "interpreter": {
    "hash": "ba7a3c9ca2433cb772abcf5bc61f19713060d1b3142d3144755cd956246f1909"
   }
  }
 },
 "nbformat": 4,
 "nbformat_minor": 2
}
